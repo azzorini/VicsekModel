{
 "cells": [
  {
   "cell_type": "code",
   "execution_count": 1,
   "id": "0655977e",
   "metadata": {},
   "outputs": [],
   "source": [
    "import numpy as np\n",
    "import matplotlib\n",
    "import matplotlib.pyplot as plt\n",
    "from matplotlib import rc, rcParams\n",
    "from matplotlib.animation import FuncAnimation"
   ]
  },
  {
   "cell_type": "code",
   "execution_count": null,
   "id": "aff6a63c",
   "metadata": {},
   "outputs": [],
   "source": [
    "def update_prueba(n):\n",
    "    y = np.sin(x + 2*np.pi*n/100)\n",
    "    sc.set_offsets(np.c_[x, y])"
   ]
  },
  {
   "cell_type": "code",
   "execution_count": null,
   "id": "5a5d02d9",
   "metadata": {},
   "outputs": [],
   "source": [
    "fig, ax = plt.subplots()\n",
    "ax.set_xlim(0, 2*np.pi)\n",
    "ax.set_ylim(-1.1, 1.1)\n",
    "x = np.linspace(0, 2*np.pi, 30)\n",
    "y = np.sin(x)\n",
    "sc = ax.scatter(x, y)"
   ]
  },
  {
   "cell_type": "code",
   "execution_count": 2,
   "id": "6637cf6f",
   "metadata": {},
   "outputs": [
    {
     "ename": "NameError",
     "evalue": "name 'fig' is not defined",
     "output_type": "error",
     "traceback": [
      "\u001b[0;31m---------------------------------------------------------------------------\u001b[0m",
      "\u001b[0;31mNameError\u001b[0m                                 Traceback (most recent call last)",
      "Cell \u001b[0;32mIn[2], line 1\u001b[0m\n\u001b[0;32m----> 1\u001b[0m anim \u001b[38;5;241m=\u001b[39m FuncAnimation(\u001b[43mfig\u001b[49m, update_prueba, frames\u001b[38;5;241m=\u001b[39m\u001b[38;5;241m100\u001b[39m, interval\u001b[38;5;241m=\u001b[39m\u001b[38;5;241m25\u001b[39m)\n\u001b[1;32m      2\u001b[0m anim\u001b[38;5;241m.\u001b[39msave(\u001b[38;5;124m'\u001b[39m\u001b[38;5;124mPrueba.gif\u001b[39m\u001b[38;5;124m'\u001b[39m, dpi\u001b[38;5;241m=\u001b[39m\u001b[38;5;241m80\u001b[39m, writer\u001b[38;5;241m=\u001b[39m\u001b[38;5;124m\"\u001b[39m\u001b[38;5;124mimagemagick\u001b[39m\u001b[38;5;124m\"\u001b[39m)\n",
      "\u001b[0;31mNameError\u001b[0m: name 'fig' is not defined"
     ]
    }
   ],
   "source": [
    "anim = FuncAnimation(fig, update_prueba, frames=100, interval=25)\n",
    "anim.save('Prueba.gif', dpi=80, writer=\"imagemagick\")"
   ]
  },
  {
   "cell_type": "code",
   "execution_count": 2,
   "id": "ac452942",
   "metadata": {},
   "outputs": [],
   "source": [
    "## Estilo ploteo\n",
    "rc(\"font\", size=24)\n",
    "rcParams['figure.figsize'] = 8, 8\n",
    "COLOR = 'white'\n",
    "rcParams['text.color'] = COLOR\n",
    "rcParams['axes.labelcolor'] = COLOR"
   ]
  },
  {
   "cell_type": "code",
   "execution_count": 9,
   "id": "465c433a",
   "metadata": {},
   "outputs": [],
   "source": [
    "# Parameters\n",
    "filename = \"./birds_300_N_400_L_5.000000_movement_d_link.txt\"\n",
    "name_split = filename.split('_')\n",
    "N, t_f, L = int(name_split[1]), int(name_split[3]), float(name_split[5])\n",
    "N_steps = 5"
   ]
  },
  {
   "cell_type": "code",
   "execution_count": 4,
   "id": "e5a96842",
   "metadata": {},
   "outputs": [],
   "source": [
    "def update_arrays(f, x, y, angle):\n",
    "    line = f.readline()\n",
    "    i = 0\n",
    "    while line != \"\\n\" and line != \"\":\n",
    "        if line[0] != '#':\n",
    "            x[i], y[i], angle[i] = (float(s) for s in line.split()[1:])\n",
    "            i += 1\n",
    "        line = f.readline()"
   ]
  },
  {
   "cell_type": "code",
   "execution_count": 5,
   "id": "9fc8ecd9",
   "metadata": {},
   "outputs": [],
   "source": [
    "def update(n):\n",
    "    ax.set_title(f\"t = {n*N_steps}\")\n",
    "    update_arrays(f, x, y, theta)\n",
    "    q.set_UVC(np.cos(theta), np.sin(theta))\n",
    "    q.set_offsets(np.c_[x, y])"
   ]
  },
  {
   "cell_type": "code",
   "execution_count": 10,
   "id": "e9b6d656",
   "metadata": {},
   "outputs": [
    {
     "data": {
      "image/png": "[encoded data removed]",
      "text/plain": [
       "<Figure size 800x800 with 1 Axes>"
      ]
     },
     "metadata": {},
     "output_type": "display_data"
    }
   ],
   "source": [
    "fig, ax = plt.subplots()\n",
    "fig.set_tight_layout(True)\n",
    "\n",
    "ax.set_xlim(0, L)\n",
    "ax.set_ylim(0, L)\n",
    "\n",
    "ax.tick_params(axis='both', which='both', bottom=False, top=False, labelbottom=False,\n",
    "                right=False, left=False, labelleft=False)\n",
    "\n",
    "#fig.patch.set_facecolor('#1b212c')\n",
    "plt.rcParams.update({\n",
    "    \"lines.color\": \"white\",\n",
    "    \"patch.edgecolor\": \"white\",\n",
    "    \"text.color\": \"white\",\n",
    "    \"axes.facecolor\": \"white\",\n",
    "    \"axes.edgecolor\": \"white\",\n",
    "    \"axes.labelcolor\": \"white\",\n",
    "    \"xtick.color\": \"white\",\n",
    "    \"ytick.color\": \"white\",\n",
    "    \"figure.facecolor\": \"#1b212c\",\n",
    "    \"figure.edgecolor\": \"#1b212c\",\n",
    "    \"savefig.facecolor\": \"#1b212c\",\n",
    "    \"savefig.edgecolor\": \"#1b212c\"})\n",
    "ax.set_facecolor('#1b212c')\n",
    "\n",
    "x, y, theta = .5*L*np.ones(N), .5*L*np.ones(N), np.zeros(N)\n",
    "f = open(filename, \"r\")\n",
    "q = ax.quiver(x, y, np.cos(theta), np.sin(theta), color=\"#82c7a5\")\n",
    "\n",
    "ax.set_title(\"t = 0\")\n",
    "\n",
    "plt.show()"
   ]
  },
  {
   "cell_type": "code",
   "execution_count": 11,
   "id": "7831fe5d",
   "metadata": {},
   "outputs": [],
   "source": [
    "anim = FuncAnimation(fig, update, frames=t_f, interval=100)\n",
    "anim.save(\"FirstBirds.gif\", dpi=80, writer=\"imagemagick\")"
   ]
  }
 ],
 "metadata": {
  "kernelspec": {
   "display_name": "Python 3 (ipykernel)",
   "language": "python",
   "name": "python3"
  },
  "language_info": {
   "codemirror_mode": {
    "name": "ipython",
    "version": 3
   },
   "file_extension": ".py",
   "mimetype": "text/x-python",
   "name": "python",
   "nbconvert_exporter": "python",
   "pygments_lexer": "ipython3",
   "version": "3.10.8"
  }
 },
 "nbformat": 4,
 "nbformat_minor": 5
}
